{
  "nbformat": 4,
  "nbformat_minor": 0,
  "metadata": {
    "colab": {
      "name": "Untitled0.ipynb",
      "provenance": [],
      "collapsed_sections": [],
      "authorship_tag": "ABX9TyNTHPlkOefA3XhNmSZfbI+R",
      "include_colab_link": true
    },
    "kernelspec": {
      "name": "python3",
      "display_name": "Python 3"
    },
    "language_info": {
      "name": "python"
    }
  },
  "cells": [
    {
      "cell_type": "markdown",
      "metadata": {
        "id": "view-in-github",
        "colab_type": "text"
      },
      "source": [
        "<a href=\"https://colab.research.google.com/github/TurovaSvetlana/-/blob/master/Untitled0.ipynb\" target=\"_parent\"><img src=\"https://colab.research.google.com/assets/colab-badge.svg\" alt=\"Open In Colab\"/></a>"
      ]
    },
    {
      "cell_type": "code",
      "source": [
        "# Задание 1\n",
        "# Загрузите модуль pyplot библиотеки matplotlib с псевдонимом plt, \n",
        "# а также библиотеку numpy с псевдонимом np.\n",
        "# Примените магическую функцию %matplotlib inline для отображения графиков \n",
        "# в Jupyter Notebook и настройки конфигурации ноутбука со значением 'svg' \n",
        "# для более четкого отображения графиков.\n",
        "# Создайте список под названием x с числами 1, 2, 3, 4, 5, 6, 7 и список y \n",
        "# с числами 3.5, 3.8, 4.2, 4.5, 5, 5.5, 7.\n",
        "# С помощью функции plot постройте график, соединяющий линиями точки с горизонтальными \n",
        "# координатами из списка x и вертикальными - из списка y.\n",
        "# Затем в следующей ячейке постройте диаграмму рассеяния \n",
        "# (другие названия - диаграмма разброса, scatter plot).\n",
        "\n",
        "import numpy as np\n",
        "import pandas as pd\n",
        "from matplotlib import pyplot as plt\n",
        "%matplotlib inline\n",
        "x = np.array([1,2,3,4,5,6,7], float)\n",
        "y = np. array([3.5,3.8,4.2,4.5,5,5.5,7], float)\n",
        "title_font = {\"fontsize\": 16,\"fontweight\": \"bold\",\n",
        "    \"color\": \"#808080\",\"family\": \"serif\",}\n",
        "label_font = {\"fontsize\": 9,\"family\": \"serif\",}\n",
        "legend_font = {\"size\": 10,\"family\": \"serif\",}\n",
        "plt.plot(x, y, label='y=f(x)')\n",
        "\n",
        "plt.title(\"Графики\", fontdict=title_font)\n",
        "plt.xlabel(\"Переменная x\", fontdict=label_font)\n",
        "plt.ylabel(\"Переменная y\", fontdict=label_font)\n",
        "\n",
        "legend = plt.legend(loc=\"lower right\", prop=legend_font)\n",
        "plt.setp(legend.get_texts(), color=\"DarkBlue\")\n",
        "\n",
        "plt.grid(color=\"lightgrey\")\n",
        "\n",
        "plt.show()\n"
      ],
      "metadata": {
        "colab": {
          "base_uri": "https://localhost:8080/",
          "height": 297
        },
        "id": "HpmToA2NTlPG",
        "outputId": "d1a81d2c-31d8-4ef7-ae26-4c097dfb23f1"
      },
      "execution_count": 1,
      "outputs": [
        {
          "output_type": "display_data",
          "data": {
            "text/plain": [
              "<Figure size 432x288 with 1 Axes>"
            ],
            "image/png": "[encoded data removed]"
          },
          "metadata": {
            "needs_background": "light"
          }
        }
      ]
    },
    {
      "cell_type": "code",
      "source": [
        "plt.scatter(x, y, label='y=f(x)')\n",
        "\n",
        "plt.title(\"Графики\", fontdict=title_font)\n",
        "plt.xlabel(\"Переменная x\", fontdict=label_font)\n",
        "plt.ylabel(\"Переменная y\", fontdict=label_font)\n",
        "\n",
        "legend = plt.legend(loc=\"lower right\", prop=legend_font)\n",
        "plt.setp(legend.get_texts(), color=\"DarkBlue\")\n",
        "\n",
        "plt.grid(color=\"lightgrey\")\n",
        "\n",
        "plt.show()\n"
      ],
      "metadata": {
        "colab": {
          "base_uri": "https://localhost:8080/",
          "height": 297
        },
        "id": "Vwz9UtpbYmp_",
        "outputId": "fb6309ef-b3a7-4a48-88bc-7947cb0b16fa"
      },
      "execution_count": 2,
      "outputs": [
        {
          "output_type": "display_data",
          "data": {
            "text/plain": [
              "<Figure size 432x288 with 1 Axes>"
            ],
            "image/png": "[encoded data removed]"
          },
          "metadata": {
            "needs_background": "light"
          }
        }
      ]
    },
    {
      "cell_type": "code",
      "source": [
        "# Задание 2\n",
        "# С помощью функции linspace из библиотеки Numpy создайте массив t \n",
        "# из 51 числа от 0 до 10 включительно.\n",
        "# Создайте массив Numpy под названием f, содержащий косинусы элементов массива t.\n",
        "# Постройте линейную диаграмму, используя массив t для координат по горизонтали,\n",
        "# а массив f - для координат по вертикали. Линия графика должна быть зеленого цвета.\n",
        "# Выведите название диаграммы - 'График f(t)'. Также добавьте названия для \n",
        "# горизонтальной оси - 'Значения t' и для вертикальной - 'Значения f'.\n",
        "# Ограничьте график по оси x значениями 0.5 и 9.5, а по оси y - значениями -2.5 и 2.5.\n",
        "\n",
        "\n",
        "t = np.linspace(0, 10, 51)\n",
        "print(t)"
      ],
      "metadata": {
        "colab": {
          "base_uri": "https://localhost:8080/"
        },
        "id": "DZn9c3VDZJvp",
        "outputId": "e8868eff-09ae-480f-8a20-42d901c4717d"
      },
      "execution_count": 3,
      "outputs": [
        {
          "output_type": "stream",
          "name": "stdout",
          "text": [
            "[ 0.   0.2  0.4  0.6  0.8  1.   1.2  1.4  1.6  1.8  2.   2.2  2.4  2.6\n",
            "  2.8  3.   3.2  3.4  3.6  3.8  4.   4.2  4.4  4.6  4.8  5.   5.2  5.4\n",
            "  5.6  5.8  6.   6.2  6.4  6.6  6.8  7.   7.2  7.4  7.6  7.8  8.   8.2\n",
            "  8.4  8.6  8.8  9.   9.2  9.4  9.6  9.8 10. ]\n"
          ]
        }
      ]
    },
    {
      "cell_type": "code",
      "source": [
        "f = np.array([np.cos(i) for i in t])\n",
        "f"
      ],
      "metadata": {
        "colab": {
          "base_uri": "https://localhost:8080/"
        },
        "id": "5fjYagfBZy5J",
        "outputId": "148cf414-c6ad-4d7a-e66f-3b70196df6c8"
      },
      "execution_count": 4,
      "outputs": [
        {
          "output_type": "execute_result",
          "data": {
            "text/plain": [
              "array([ 1.        ,  0.98006658,  0.92106099,  0.82533561,  0.69670671,\n",
              "        0.54030231,  0.36235775,  0.16996714, -0.02919952, -0.22720209,\n",
              "       -0.41614684, -0.58850112, -0.73739372, -0.85688875, -0.94222234,\n",
              "       -0.9899925 , -0.99829478, -0.96679819, -0.89675842, -0.79096771,\n",
              "       -0.65364362, -0.49026082, -0.30733287, -0.11215253,  0.08749898,\n",
              "        0.28366219,  0.46851667,  0.63469288,  0.77556588,  0.88551952,\n",
              "        0.96017029,  0.9965421 ,  0.99318492,  0.95023259,  0.86939749,\n",
              "        0.75390225,  0.60835131,  0.43854733,  0.25125984,  0.05395542,\n",
              "       -0.14550003, -0.33915486, -0.51928865, -0.67872005, -0.81109301,\n",
              "       -0.91113026, -0.97484362, -0.99969304, -0.98468786, -0.93042627,\n",
              "       -0.83907153])"
            ]
          },
          "metadata": {},
          "execution_count": 4
        }
      ]
    },
    {
      "cell_type": "code",
      "source": [
        "plt.axis([0.5, 9.5, -2.5, 2.5])\n",
        "\n",
        "plt.plot(t, f, label='f=cos(t)', color=\"green\")\n",
        "\n",
        "plt.title(\"График f(t)\", fontdict=title_font)\n",
        "plt.xlabel(\"Переменная t\", fontdict=label_font)\n",
        "plt.ylabel(\"Переменная f\", fontdict=label_font)\n",
        "\n",
        "legend = plt.legend(loc=\"upper right\", prop=legend_font)\n",
        "plt.setp(legend.get_texts(), color=\"DarkBlue\")\n",
        "\n",
        "plt.grid(color=\"lightgrey\")\n",
        "\n",
        "plt.show()"
      ],
      "metadata": {
        "colab": {
          "base_uri": "https://localhost:8080/",
          "height": 297
        },
        "id": "akxoGFdsZ9R3",
        "outputId": "5f47290e-46cf-411f-ea77-a8801a2a613b"
      },
      "execution_count": 5,
      "outputs": [
        {
          "output_type": "display_data",
          "data": {
            "text/plain": [
              "<Figure size 432x288 with 1 Axes>"
            ],
            "image/png": "[encoded data removed]"
          },
          "metadata": {
            "needs_background": "light"
          }
        }
      ]
    },
    {
      "cell_type": "code",
      "source": [
        "\n",
        "# *Задание 3\n",
        "# С помощью функции linspace библиотеки Numpy создайте массив x \n",
        "# из 51 числа от -3 до 3 включительно.\n",
        "# Создайте массивы y1, y2, y3, y4 по следующим формулам:\n",
        "# y1 = x**2\n",
        "# y2 = 2 * x + 0.5\n",
        "# y3 = -3 * x - 1.5\n",
        "# y4 = sin(x)\n",
        "# Используя функцию subplots модуля matplotlib.pyplot, создайте объект \n",
        "# matplotlib.figure.Figure с названием fig и массив объектов Axes под названием ax,\n",
        "# причем так, чтобы у вас было 4 отдельных графика в сетке, состоящей из двух строк \n",
        "# и двух столбцов. В каждом графике массив x используется для координат по горизонтали.\n",
        "# В левом верхнем графике для координат по вертикали используйте y1,в правом верхнем - y2, \n",
        "# в левом нижнем - y3, в правом нижнем - y4.Дайте название графикам: 'График y1', 'График y2' и т.д.\n",
        "#  Для графика в левом верхнем углу установите границы по оси x от -5 до 5.\n",
        "# Установите размеры фигуры 8 дюймов по горизонтали и 6 дюймов по вертикали.\n",
        "# Вертикальные и горизонтальные зазоры между графиками должны составлять 0.3.\n",
        "\n",
        "x = np.linspace(-3, 3, 51)\n",
        "print(x)\n"
      ],
      "metadata": {
        "colab": {
          "base_uri": "https://localhost:8080/"
        },
        "id": "89mEZCIIaJsg",
        "outputId": "08dc3d1a-f74e-4e62-b982-a14e72c60af5"
      },
      "execution_count": 7,
      "outputs": [
        {
          "output_type": "stream",
          "name": "stdout",
          "text": [
            "[-3.   -2.88 -2.76 -2.64 -2.52 -2.4  -2.28 -2.16 -2.04 -1.92 -1.8  -1.68\n",
            " -1.56 -1.44 -1.32 -1.2  -1.08 -0.96 -0.84 -0.72 -0.6  -0.48 -0.36 -0.24\n",
            " -0.12  0.    0.12  0.24  0.36  0.48  0.6   0.72  0.84  0.96  1.08  1.2\n",
            "  1.32  1.44  1.56  1.68  1.8   1.92  2.04  2.16  2.28  2.4   2.52  2.64\n",
            "  2.76  2.88  3.  ]\n"
          ]
        }
      ]
    },
    {
      "cell_type": "code",
      "source": [
        "y1 = np.array([i**2 for i in x])\n",
        "y2 = np.array([2*i+0.5 for i in x])\n",
        "y3 = np.array([(-3)*i-1.5 for i in x])\n",
        "y4 = np.array([np.sin(i) for i in x])\n",
        "print(y1)\n",
        "print(y2)\n",
        "print(y3)\n",
        "print(y4)"
      ],
      "metadata": {
        "colab": {
          "base_uri": "https://localhost:8080/"
        },
        "id": "DqHNPJaAbDXk",
        "outputId": "9bf5b43a-0013-4e29-c8f8-a05eb5bc711b"
      },
      "execution_count": 8,
      "outputs": [
        {
          "output_type": "stream",
          "name": "stdout",
          "text": [
            "[9.     8.2944 7.6176 6.9696 6.3504 5.76   5.1984 4.6656 4.1616 3.6864\n",
            " 3.24   2.8224 2.4336 2.0736 1.7424 1.44   1.1664 0.9216 0.7056 0.5184\n",
            " 0.36   0.2304 0.1296 0.0576 0.0144 0.     0.0144 0.0576 0.1296 0.2304\n",
            " 0.36   0.5184 0.7056 0.9216 1.1664 1.44   1.7424 2.0736 2.4336 2.8224\n",
            " 3.24   3.6864 4.1616 4.6656 5.1984 5.76   6.3504 6.9696 7.6176 8.2944\n",
            " 9.    ]\n",
            "[-5.5  -5.26 -5.02 -4.78 -4.54 -4.3  -4.06 -3.82 -3.58 -3.34 -3.1  -2.86\n",
            " -2.62 -2.38 -2.14 -1.9  -1.66 -1.42 -1.18 -0.94 -0.7  -0.46 -0.22  0.02\n",
            "  0.26  0.5   0.74  0.98  1.22  1.46  1.7   1.94  2.18  2.42  2.66  2.9\n",
            "  3.14  3.38  3.62  3.86  4.1   4.34  4.58  4.82  5.06  5.3   5.54  5.78\n",
            "  6.02  6.26  6.5 ]\n",
            "[  7.5    7.14   6.78   6.42   6.06   5.7    5.34   4.98   4.62   4.26\n",
            "   3.9    3.54   3.18   2.82   2.46   2.1    1.74   1.38   1.02   0.66\n",
            "   0.3   -0.06  -0.42  -0.78  -1.14  -1.5   -1.86  -2.22  -2.58  -2.94\n",
            "  -3.3   -3.66  -4.02  -4.38  -4.74  -5.1   -5.46  -5.82  -6.18  -6.54\n",
            "  -6.9   -7.26  -7.62  -7.98  -8.34  -8.7   -9.06  -9.42  -9.78 -10.14\n",
            " -10.5 ]\n",
            "[-0.14112001 -0.25861935 -0.37239904 -0.48082261 -0.58233065 -0.67546318\n",
            " -0.75888071 -0.83138346 -0.89192865 -0.93964547 -0.97384763 -0.9940432\n",
            " -0.99994172 -0.99145835 -0.9687151  -0.93203909 -0.88195781 -0.81919157\n",
            " -0.74464312 -0.65938467 -0.56464247 -0.46177918 -0.35227423 -0.23770263\n",
            " -0.11971221  0.          0.11971221  0.23770263  0.35227423  0.46177918\n",
            "  0.56464247  0.65938467  0.74464312  0.81919157  0.88195781  0.93203909\n",
            "  0.9687151   0.99145835  0.99994172  0.9940432   0.97384763  0.93964547\n",
            "  0.89192865  0.83138346  0.75888071  0.67546318  0.58233065  0.48082261\n",
            "  0.37239904  0.25861935  0.14112001]\n"
          ]
        }
      ]
    },
    {
      "cell_type": "code",
      "source": [
        "fig, ax = plt.subplots(nrows=2, ncols=2)\n",
        "ax1, ax2, ax3, ax4 = ax.flatten()\n",
        "\n",
        "ax1.plot(x, y1)\n",
        "ax1.set_title('График y1')\n",
        "ax1.set_xlim([-5, 5])\n",
        "\n",
        "ax2.plot(x, y2)\n",
        "ax2.set_title('График y2')\n",
        "\n",
        "ax3.plot(x, y3)\n",
        "ax3.set_title('График y3')\n",
        "\n",
        "ax4.plot(x, y4)\n",
        "ax4.set_title('График y4')\n",
        "\n",
        "fig.set_size_inches(8, 6)\n",
        "plt.subplots_adjust(wspace=0.3, hspace=0.3)"
      ],
      "metadata": {
        "colab": {
          "base_uri": "https://localhost:8080/",
          "height": 390
        },
        "id": "TP8Pob6CbMs4",
        "outputId": "feb58949-a003-435c-aafd-d1ce30b0055b"
      },
      "execution_count": 9,
      "outputs": [
        {
          "output_type": "display_data",
          "data": {
            "text/plain": [
              "<Figure size 576x432 with 4 Axes>"
            ],
            "image/png": "[encoded data removed]"
          },
          "metadata": {
            "needs_background": "light"
          }
        }
      ]
    },
    {
      "cell_type": "code",
      "source": [
        "# Задание на повторение материала\n",
        "# Создать одномерный массив Numpy под названием a из 12\n",
        "# последовательных целых чисел чисел от 12 до 24 невключительно\n",
        "\n",
        "a = np. arange(12,24)\n",
        "a\n",
        "\n"
      ],
      "metadata": {
        "colab": {
          "base_uri": "https://localhost:8080/"
        },
        "id": "CRvx8seihcVB",
        "outputId": "8d914b10-a0c0-4717-d1e1-f560f01f7a0c"
      },
      "execution_count": 13,
      "outputs": [
        {
          "output_type": "execute_result",
          "data": {
            "text/plain": [
              "array([12, 13, 14, 15, 16, 17, 18, 19, 20, 21, 22, 23])"
            ]
          },
          "metadata": {},
          "execution_count": 13
        }
      ]
    },
    {
      "cell_type": "code",
      "source": [
        "# Создать 5 двумерных массивов разной формы из массива a.\n",
        "# Не использовать в аргументах метода reshape число -1.\n",
        "\n",
        "print(a.reshape(12, 1))\n",
        "print(a.reshape(2, 6))\n",
        "print(a.reshape(3, 4))\n",
        "print(a.reshape(4, 3))\n",
        "print(a.reshape(6, 2))"
      ],
      "metadata": {
        "colab": {
          "base_uri": "https://localhost:8080/"
        },
        "id": "IeXwD7BqiSK_",
        "outputId": "98fd9c83-6c5c-4c04-fa5a-2e98b2810e74"
      },
      "execution_count": 14,
      "outputs": [
        {
          "output_type": "stream",
          "name": "stdout",
          "text": [
            "[[12]\n",
            " [13]\n",
            " [14]\n",
            " [15]\n",
            " [16]\n",
            " [17]\n",
            " [18]\n",
            " [19]\n",
            " [20]\n",
            " [21]\n",
            " [22]\n",
            " [23]]\n",
            "[[12 13 14 15 16 17]\n",
            " [18 19 20 21 22 23]]\n",
            "[[12 13 14 15]\n",
            " [16 17 18 19]\n",
            " [20 21 22 23]]\n",
            "[[12 13 14]\n",
            " [15 16 17]\n",
            " [18 19 20]\n",
            " [21 22 23]]\n",
            "[[12 13]\n",
            " [14 15]\n",
            " [16 17]\n",
            " [18 19]\n",
            " [20 21]\n",
            " [22 23]]\n"
          ]
        }
      ]
    },
    {
      "cell_type": "code",
      "source": [
        "# Создать 5 двумерных массивов разной формы из массива a. \n",
        "# Использовать в аргументах метода reshape число -1 \n",
        "# (в трех примерах - для обозначения числа столбцов, в двух - для строк).\n",
        "\n",
        "print(a.reshape(12, -1))\n",
        "print(a.reshape(2, -1))\n",
        "print(a.reshape(3, -1))\n",
        "print(a.reshape(-1, 3))\n",
        "print(a.reshape(-1, 2))"
      ],
      "metadata": {
        "colab": {
          "base_uri": "https://localhost:8080/"
        },
        "id": "99wpg41FijXr",
        "outputId": "c8f69fe8-ec2f-4754-fd9d-c9e1eafa635d"
      },
      "execution_count": 15,
      "outputs": [
        {
          "output_type": "stream",
          "name": "stdout",
          "text": [
            "[[12]\n",
            " [13]\n",
            " [14]\n",
            " [15]\n",
            " [16]\n",
            " [17]\n",
            " [18]\n",
            " [19]\n",
            " [20]\n",
            " [21]\n",
            " [22]\n",
            " [23]]\n",
            "[[12 13 14 15 16 17]\n",
            " [18 19 20 21 22 23]]\n",
            "[[12 13 14 15]\n",
            " [16 17 18 19]\n",
            " [20 21 22 23]]\n",
            "[[12 13 14]\n",
            " [15 16 17]\n",
            " [18 19 20]\n",
            " [21 22 23]]\n",
            "[[12 13]\n",
            " [14 15]\n",
            " [16 17]\n",
            " [18 19]\n",
            " [20 21]\n",
            " [22 23]]\n"
          ]
        }
      ]
    },
    {
      "cell_type": "code",
      "source": [
        "# Можно ли массив Numpy, состоящий из одного столбца и 12 строк, назвать одномерным?\n",
        "\n",
        "# Одномерный массив – это именованная последовательность, состоящая из пронумерованных элементов одного типа\n",
        "\n",
        "\n",
        "test1 = np.arange(0, 12)\n",
        "test2=test1.reshape(12, -1)\n",
        "print(type(test1[1]))\n",
        "print(type(test2[1]))\n",
        "\n",
        "print('При обращении к одинаковым (в позиции) элементам у них разный тип (правильный numpy.int32). \\nОтвет: нет')"
      ],
      "metadata": {
        "colab": {
          "base_uri": "https://localhost:8080/"
        },
        "id": "M1Lv2JFTiy5I",
        "outputId": "73ca0e51-235f-4ff7-e31f-ab24ebd3b96a"
      },
      "execution_count": 16,
      "outputs": [
        {
          "output_type": "stream",
          "name": "stdout",
          "text": [
            "<class 'numpy.int64'>\n",
            "<class 'numpy.ndarray'>\n",
            "При обращении к одинаковым (в позиции) элементам у них разный тип (правильный numpy.int32). \n",
            "Ответ: нет\n"
          ]
        }
      ]
    },
    {
      "cell_type": "code",
      "source": [
        "# Создать массив из 3 строк и 4 столбцов, состоящий из случайных чисел \n",
        "# с плавающей запятой из нормального распределения со средним, равным 0 и\n",
        "# среднеквадратичным отклонением, равным 1.0. Получить из этого массива одномерный массив \n",
        "# с таким же атрибутом size, как и исходный массив.\n",
        "\n",
        "a = np.random.randn(3,4)\n",
        "print(a)\n",
        "print(a.size)\n",
        "a = a.flatten()\n",
        "print(a)\n",
        "print(a.size)"
      ],
      "metadata": {
        "colab": {
          "base_uri": "https://localhost:8080/"
        },
        "id": "S0ri_Y33ja0h",
        "outputId": "d6a36ff6-e61e-4723-e88c-ed33e7e30038"
      },
      "execution_count": 17,
      "outputs": [
        {
          "output_type": "stream",
          "name": "stdout",
          "text": [
            "[[ 1.9368081   0.75094367 -1.15035641  0.74530824]\n",
            " [-0.99751056 -0.19661801 -1.58041818  2.11133408]\n",
            " [ 0.12032095  1.39863175 -0.61300948  0.77466823]]\n",
            "12\n",
            "[ 1.9368081   0.75094367 -1.15035641  0.74530824 -0.99751056 -0.19661801\n",
            " -1.58041818  2.11133408  0.12032095  1.39863175 -0.61300948  0.77466823]\n",
            "12\n"
          ]
        }
      ]
    },
    {
      "cell_type": "code",
      "source": [
        "# Создать массив a, состоящий из целых чисел, убывающих от 20 до 0 невключительно с интервалом 2.\n",
        "\n",
        "a = np.arange(20, 0, -2)\n",
        "print(a)"
      ],
      "metadata": {
        "colab": {
          "base_uri": "https://localhost:8080/"
        },
        "id": "bzKC7OnMjrjj",
        "outputId": "19578baa-0554-4b2a-e1c0-ba2aa87bbe30"
      },
      "execution_count": 18,
      "outputs": [
        {
          "output_type": "stream",
          "name": "stdout",
          "text": [
            "[20 18 16 14 12 10  8  6  4  2]\n"
          ]
        }
      ]
    },
    {
      "cell_type": "code",
      "source": [
        "# Создать массив b, состоящий из 1 строки и 10 столбцов: целых чисел, \n",
        "# убывающих от 20 до 1 невключительно с интервалом 2. \n",
        "# В чем разница между массивами a и b?\n",
        "\n",
        "b = np.arange(20, 1, -2).reshape(1,10)\n",
        "print(b)"
      ],
      "metadata": {
        "colab": {
          "base_uri": "https://localhost:8080/"
        },
        "id": "z6yzy9Xqj8R-",
        "outputId": "893f0b7e-9743-4def-d589-81f1453b074e"
      },
      "execution_count": 19,
      "outputs": [
        {
          "output_type": "stream",
          "name": "stdout",
          "text": [
            "[[20 18 16 14 12 10  8  6  4  2]]\n"
          ]
        }
      ]
    },
    {
      "cell_type": "code",
      "source": [
        "print('Разница:')\n",
        "print(a[0])\n",
        "print(b[0])\n",
        "print(b[0][0])\n",
        "\n"
      ],
      "metadata": {
        "colab": {
          "base_uri": "https://localhost:8080/"
        },
        "id": "WPKMtj4HkRFK",
        "outputId": "623e425c-78b0-470b-99d3-ca421048abda"
      },
      "execution_count": 20,
      "outputs": [
        {
          "output_type": "stream",
          "name": "stdout",
          "text": [
            "Разница:\n",
            "20\n",
            "[20 18 16 14 12 10  8  6  4  2]\n",
            "20\n"
          ]
        }
      ]
    },
    {
      "cell_type": "code",
      "source": [
        "# Создать одномерный массив а, состоящий из последовательности целых чисел от 0 до 12.\n",
        "# Поменять форму этого массива, чтобы получилась матрица A (двумерный массив Numpy),\n",
        "# состоящая из 4 строк и 3 столбцов. Получить матрицу At путем транспонирования матрицы A.\n",
        "# Получить матрицу B, умножив матрицу A на матрицу At с помощью матричного умножения.\n",
        "# Какой размер имеет матрица B?\n",
        "# Получится ли вычислить обратную матрицу для матрицы B и почему?\n",
        "\n",
        "a = np.arange(0, 12)\n",
        "print(a)\n",
        "print()\n",
        "A = a.reshape(4, 3)\n",
        "print(A)\n",
        "print()\n",
        "At = A.transpose()\n",
        "print(At)\n",
        "print()\n",
        "B = A.dot(At)\n",
        "print(B)\n",
        "print()\n",
        "print(B.shape)\n",
        "print()\n",
        "detB = np.linalg.det(B)\n",
        "print(detB)\n",
        "print('не получится вычислить обратную матрицу для матрицы B, она вырожденная')"
      ],
      "metadata": {
        "colab": {
          "base_uri": "https://localhost:8080/"
        },
        "id": "kPGUls6llOuG",
        "outputId": "650b93c7-0996-44b4-c396-335ab1739687"
      },
      "execution_count": 23,
      "outputs": [
        {
          "output_type": "stream",
          "name": "stdout",
          "text": [
            "[ 0  1  2  3  4  5  6  7  8  9 10 11]\n",
            "\n",
            "[[ 0  1  2]\n",
            " [ 3  4  5]\n",
            " [ 6  7  8]\n",
            " [ 9 10 11]]\n",
            "\n",
            "[[ 0  3  6  9]\n",
            " [ 1  4  7 10]\n",
            " [ 2  5  8 11]]\n",
            "\n",
            "[[  5  14  23  32]\n",
            " [ 14  50  86 122]\n",
            " [ 23  86 149 212]\n",
            " [ 32 122 212 302]]\n",
            "\n",
            "(4, 4)\n",
            "\n",
            "0.0\n",
            "не получится вычислить обратную матрицу для матрицы B, она вырожденная\n"
          ]
        }
      ]
    },
    {
      "cell_type": "code",
      "source": [
        "# Инициализируйте генератор случайных числе с помощью объекта seed, равного 42.\n",
        "\n",
        "np.random.seed(42)\n",
        "\n",
        "# Создайте одномерный массив c, составленный из последовательности 16-ти \n",
        "# случайных равномерно распределенных целых чисел от 0 до 16 невключительно.\n",
        "\n",
        "a = np.random.randint(0, 16, 16)\n",
        "print(a)\n"
      ],
      "metadata": {
        "colab": {
          "base_uri": "https://localhost:8080/"
        },
        "id": "P5Z3TCwnll5M",
        "outputId": "e3d0ed32-4e07-4288-a86d-a4ba400fa48c"
      },
      "execution_count": 27,
      "outputs": [
        {
          "output_type": "stream",
          "name": "stdout",
          "text": [
            "[ 6  3 12 14 10  7 12  4  6  9  2  6 10 10  7  4]\n"
          ]
        }
      ]
    },
    {
      "cell_type": "code",
      "source": [
        "# Поменяйте его форму так, чтобы получилась квадратная матрица C. \n",
        "# Получите матрицу D, поэлементно прибавив матрицу B из предыдущего вопроса к матрице C, умноженной на 10. \n",
        "# Вычислите определитель, ранг и обратную матрицу D_inv для D.\n",
        "\n",
        "C = a.reshape(4, 4)\n",
        "print(C)\n",
        "print()\n",
        "D = B + C*10\n",
        "print(D)\n",
        "print()\n",
        "detD = np.linalg.det(D)\n",
        "print(detD)\n",
        "print()\n",
        "rankD = np.linalg.matrix_rank(D)\n",
        "print(rankD)\n",
        "print()\n",
        "invD = np.linalg.inv(D)\n",
        "print(invD)\n",
        "print()\n",
        "print(D @ invD)\n",
        "print()"
      ],
      "metadata": {
        "colab": {
          "base_uri": "https://localhost:8080/"
        },
        "id": "2QF8Tjkkm2l2",
        "outputId": "f2e45e9a-dfa1-4837-9b91-087183a46fd5"
      },
      "execution_count": 28,
      "outputs": [
        {
          "output_type": "stream",
          "name": "stdout",
          "text": [
            "[[ 6  3 12 14]\n",
            " [10  7 12  4]\n",
            " [ 6  9  2  6]\n",
            " [10 10  7  4]]\n",
            "\n",
            "[[ 65  44 143 172]\n",
            " [114 120 206 162]\n",
            " [ 83 176 169 272]\n",
            " [132 222 282 342]]\n",
            "\n",
            "-28511999.999999944\n",
            "\n",
            "4\n",
            "\n",
            "[[ 0.00935396  0.04486532  0.05897517 -0.07286055]\n",
            " [-0.01503577 -0.00122896 -0.00192971  0.00967873]\n",
            " [-0.00356692 -0.01782828 -0.04152146  0.04326178]\n",
            " [ 0.00909091 -0.00181818  0.01272727 -0.01090909]]\n",
            "\n",
            "[[ 1.00000000e+00  1.99493200e-17  4.16333634e-17  1.05471187e-15]\n",
            " [-2.87964097e-16  1.00000000e+00 -2.70616862e-16  1.69309011e-15]\n",
            " [-8.32667268e-17  1.83880688e-16  1.00000000e+00 -1.11022302e-15]\n",
            " [-5.58580959e-16  9.97465999e-18  2.08166817e-17  1.00000000e+00]]\n",
            "\n"
          ]
        }
      ]
    },
    {
      "cell_type": "code",
      "source": [
        "# Приравняйте к нулю отрицательные числа в матрице D_inv, а положительные - к единице.\n",
        "# Убедитесь, что в матрице D_inv остались только нули и единицы.\n",
        "# С помощью функции numpy.where, используя матрицу D_inv в качестве маски, а матрицы B и\n",
        "# C - в качестве источников данных, получите матрицу E размером 4x4. Элементы матрицы E,\n",
        "# для которых соответствующий элемент матрицы D_inv равен 1,\n",
        "# должны быть равны соответствующему элементу матрицы B, а элементы матрицы E,\n",
        "# для которых соответствующий элемент матрицы D_inv равен 0,\n",
        "# должны быть равны соответствующему элементу матрицы C.\n",
        "\n",
        "D_inv = np.where(invD<0, 0, 1)\n",
        "print(D_inv)\n",
        "print()\n",
        "print(B)\n",
        "print()\n",
        "print(C)\n",
        "print()\n",
        "E = np.where(D_inv==1, B, C)\n",
        "print(E)"
      ],
      "metadata": {
        "colab": {
          "base_uri": "https://localhost:8080/"
        },
        "id": "a__-vjXrnKMz",
        "outputId": "675a0837-737b-4e90-a279-638e0518601c"
      },
      "execution_count": 29,
      "outputs": [
        {
          "output_type": "stream",
          "name": "stdout",
          "text": [
            "[[1 1 1 0]\n",
            " [0 0 0 1]\n",
            " [0 0 0 1]\n",
            " [1 0 1 0]]\n",
            "\n",
            "[[  5  14  23  32]\n",
            " [ 14  50  86 122]\n",
            " [ 23  86 149 212]\n",
            " [ 32 122 212 302]]\n",
            "\n",
            "[[ 6  3 12 14]\n",
            " [10  7 12  4]\n",
            " [ 6  9  2  6]\n",
            " [10 10  7  4]]\n",
            "\n",
            "[[  5  14  23  14]\n",
            " [ 10   7  12 122]\n",
            " [  6   9   2 212]\n",
            " [ 32  10 212   4]]\n"
          ]
        }
      ]
    }
  ]
}